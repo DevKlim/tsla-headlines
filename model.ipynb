{
 "cells": [
  {
   "cell_type": "code",
   "execution_count": null,
   "id": "d2bbd6f5",
   "metadata": {},
   "outputs": [],
   "source": [
    "import pandas as pd\n",
    "import numpy as np\n",
    "import re\n",
    "import nltk\n",
    "from nltk.corpus import stopwords\n",
    "from nltk.tokenize import word_tokenize\n",
    "from textblob import TextBlob\n",
    "import xgboost as xgb\n",
    "from sklearn.model_selection import train_test_split, RandomizedSearchCV\n",
    "from sklearn.metrics import accuracy_score, classification_report, confusion_matrix\n",
    "from sklearn.feature_extraction.text import TfidfVectorizer\n",
    "from sklearn.preprocessing import StandardScaler\n",
    "import matplotlib.pyplot as plt\n",
    "from dateutil.parser import parse\n",
    "import warnings\n",
    "import seaborn as sns\n",
    "nltk.download('stopwords')\n",
    "nltk.download('punkt')"
   ]
  },
  {
   "cell_type": "code",
   "execution_count": null,
   "id": "f1c38a42",
   "metadata": {},
   "outputs": [],
   "source": [
    "tesla = pd.read_csv('data/tsla.csv')\n",
    "tesla['Date'] = pd.to_datetime(tesla['Date'])\n",
    "tesla.sort_values('Date', inplace=True)\n",
    "tesla.reset_index(drop=True, inplace=True)"
   ]
  },
  {
   "cell_type": "code",
   "execution_count": null,
   "id": "eebcfa50",
   "metadata": {},
   "outputs": [],
   "source": [
    "reuters = pd.read_csv('data/reuters_headlines.csv')\n",
    "guardian = pd.read_csv('data/guardian_headlines.csv')\n",
    "cnbc = pd.read_csv('data/cnbc_headlines.csv')\n",
    "reuters['Date'] = pd.to_datetime(reuters['Time'], errors='coerce')\n",
    "guardian['Date'] = pd.to_datetime(guardian['Time'], format='%d-%b-%y', errors='coerce')"
   ]
  },
  {
   "cell_type": "code",
   "execution_count": null,
   "id": "6f1b57c7",
   "metadata": {},
   "outputs": [],
   "source": [
    "def parse_cnbc_time(time_str):\n",
    "    try:\n",
    "        time_str = time_str.strip().replace('ET', '').strip()\n",
    "        dt = parse(time_str, fuzzy=True)\n",
    "        return dt\n",
    "    except:\n",
    "        return pd.NaT\n",
    "cnbc.dropna(subset=['Headlines', 'Time'], inplace=True)\n",
    "cnbc['Date'] = cnbc['Time'].apply(parse_cnbc_time)\n",
    "reuters_news = reuters[['Date', 'Headlines']].rename(columns={'Headlines': 'Headline'})\n",
    "guardian_news = guardian[['Date', 'Headlines']].rename(columns={'Headlines': 'Headline'})\n",
    "cnbc_news = cnbc[['Date', 'Headlines']].rename(columns={'Headlines': 'Headline'})\n",
    "news = pd.concat([reuters_news, guardian_news, cnbc_news], ignore_index=True)\n",
    "news.dropna(subset=['Date'], inplace=True)"
   ]
  },
  {
   "cell_type": "code",
   "execution_count": null,
   "id": "2e0b67d9",
   "metadata": {},
   "outputs": [],
   "source": [
    "stop_words = set(stopwords.words('english'))\n",
    "def clean(text):\n",
    "    text = text.lower()\n",
    "    text = re.sub(r'[^a-z\\s]', '', text)\n",
    "    tokens = word_tokenize(text)\n",
    "    tokens = [word for word in tokens if word not in stop_words]\n",
    "    return ' '.join(tokens)\n",
    "news['Clean_Headline'] = news['Headline'].apply(clean)\n",
    "def get_sentiment(text):\n",
    "    return TextBlob(text).sentiment.polarity\n",
    "news['Sentiment'] = news['Headline'].apply(get_sentiment)\n",
    "daily_news = news.groupby('Date').agg({\n",
    "    'Clean_Headline': ' '.join,\n",
    "    'Sentiment': 'mean'\n",
    "}).reset_index()"
   ]
  },
  {
   "cell_type": "code",
   "execution_count": null,
   "id": "b6a987d1",
   "metadata": {},
   "outputs": [],
   "source": [
    "# Most Common Words\n",
    "all_words = ' '.join(news['Clean_Headline']).split()\n",
    "word_freq = pd.Series(all_words).value_counts().head(20)\n",
    "plt.figure(figsize=(10,6))\n",
    "sns.barplot(x=word_freq.values, y=word_freq.index, palette='viridis')\n",
    "plt.title('Top 20 Most Common Words in Headlines')\n",
    "plt.xlabel('Frequency')\n",
    "plt.ylabel('Words')\n",
    "plt.show()"
   ]
  },
  {
   "cell_type": "code",
   "execution_count": null,
   "id": "71f0a7e6",
   "metadata": {},
   "outputs": [],
   "source": [
    "# Top Words That Are Proper Nouns\n",
    "def extract_proper_nouns(text):\n",
    "    words = word_tokenize(text)\n",
    "    proper_nouns = [word for word in words if word.istitle()]\n",
    "    return proper_nouns\n",
    "news['Proper_Nouns'] = news['Headline'].apply(extract_proper_nouns)\n",
    "all_proper_nouns = news['Proper_Nouns'].explode()\n",
    "proper_noun_freq = all_proper_nouns.value_counts().head(20)\n",
    "plt.figure(figsize=(10,6))\n",
    "sns.barplot(x=proper_noun_freq.values, y=proper_noun_freq.index, palette='magma')\n",
    "plt.title('Top 20 Proper Nouns in Headlines')\n",
    "plt.xlabel('Frequency')\n",
    "plt.ylabel('Proper Nouns')\n",
    "plt.show()"
   ]
  },
  {
   "cell_type": "code",
   "execution_count": null,
   "id": "4f9788c1",
   "metadata": {},
   "outputs": [],
   "source": [
    "# Tesla Stock Data Aggregates\n",
    "plt.figure(figsize=(12,6))\n",
    "plt.plot(tesla['Date'], tesla['Close'], label='Close Price')\n",
    "plt.title('Tesla Close Price Over Time')\n",
    "plt.xlabel('Date')\n",
    "plt.ylabel('Close Price')\n",
    "plt.legend()\n",
    "plt.show()\n",
    "plt.figure(figsize=(12,6))\n",
    "plt.plot(tesla['Date'], tesla['Volume'], label='Volume', color='orange')\n",
    "plt.title('Tesla Trading Volume Over Time')\n",
    "plt.xlabel('Date')\n",
    "plt.ylabel('Volume')\n",
    "plt.legend()\n",
    "plt.show()"
   ]
  },
  {
   "cell_type": "code",
   "execution_count": null,
   "id": "6a864a99",
   "metadata": {},
   "outputs": [],
   "source": [
    "merged = pd.merge(tesla, daily_news, on='Date', how='inner')\n",
    "merged['Target'] = (merged['Close'].shift(-1) > merged['Close']).astype(int)\n",
    "merged.dropna(inplace=True)\n",
    "for lag in [1, 2, 3]:\n",
    "    merged[f'Close_Lag{lag}'] = merged['Close'].shift(lag)\n",
    "    merged[f'Volume_Lag{lag}'] = merged['Volume'].shift(lag)\n",
    "merged.dropna(inplace=True)"
   ]
  },
  {
   "cell_type": "code",
   "execution_count": null,
   "id": "e284e8c4",
   "metadata": {},
   "outputs": [],
   "source": [
    "X_num = merged[['Open', 'High', 'Low', 'Close', 'Adj Close', 'Volume',\n",
    "               'Close_Lag1', 'Close_Lag2', 'Close_Lag3',\n",
    "               'Volume_Lag1', 'Volume_Lag2', 'Volume_Lag3', 'Sentiment']]\n",
    "X_text = merged['Clean_Headline']\n",
    "y = merged['Target']\n",
    "scaler = StandardScaler()\n",
    "X_num_scaled = scaler.fit_transform(X_num)\n",
    "vectorizer = TfidfVectorizer(max_features=500)\n",
    "X_text_vect = vectorizer.fit_transform(X_text).toarray()\n",
    "X = np.hstack((X_num.values, X_text_vect))\n",
    "X_train, X_test, y_train, y_test = train_test_split(X, y, test_size=0.2, shuffle=False)"
   ]
  },
  {
   "cell_type": "code",
   "execution_count": null,
   "id": "abf88c7e",
   "metadata": {},
   "outputs": [],
   "source": [
    "xgb_params = {\n",
    "    'tree_method': 'gpu_hist',\n",
    "    'gpu_id': 0,\n",
    "    'n_estimators': 100,\n",
    "    'learning_rate': 0.05,\n",
    "    'max_depth': 6,\n",
    "    'subsample': 0.8,\n",
    "    'colsample_bytree': 0.8,\n",
    "    'random_state': 158,\n",
    "    'objective': 'binary:logistic',\n",
    "    'use_label_encoder': False,\n",
    "    'eval_metric': 'logloss'\n",
    "}\n",
    "model = xgb.XGBClassifier(**xgb_params)\n",
    "param_dist = {\n",
    "    'n_estimators': [100, 200, 300],\n",
    "    'learning_rate': [0.01, 0.05, 0.1],\n",
    "    'max_depth': [4, 6, 8],\n",
    "    'subsample': [0.6, 0.8, 1.0],\n",
    "    'colsample_bytree': [0.6, 0.8, 1.0]\n",
    "}\n",
    "rand_search = RandomizedSearchCV(model, param_distributions=param_dist,\n",
    "                                 n_iter=20, scoring='accuracy',\n",
    "                                 cv=3, verbose=1, random_state=158, n_jobs=-1)\n",
    "rand_search.fit(X_train, y_train)\n",
    "best_model = rand_search.best_estimator_"
   ]
  },
  {
   "cell_type": "code",
   "execution_count": null,
   "id": "1b74a6d8",
   "metadata": {},
   "outputs": [],
   "source": [
    "y_pred = best_model.predict(X_test)\n",
    "accuracy = accuracy_score(y_test, y_pred)\n",
    "print(f'Accuracy: {accuracy:.2f}')\n",
    "print('Classification Report:')\n",
    "print(classification_report(y_test, y_pred))\n",
    "print('Confusion Matrix:')\n",
    "print(confusion_matrix(y_test, y_pred))"
   ]
  },
  {
   "cell_type": "code",
   "execution_count": null,
   "id": "6a82369a",
   "metadata": {},
   "outputs": [],
   "source": [
    "plt.figure(figsize=(6,4))\n",
    "sns.heatmap(confusion_matrix(y_test, y_pred), annot=True, fmt='d', cmap='Blues',\n",
    "            xticklabels=['Down', 'Up'], yticklabels=['Down', 'Up'])\n",
    "plt.xlabel('Predicted')\n",
    "plt.ylabel('Actual')\n",
    "plt.title('Confusion Matrix')\n",
    "plt.show()"
   ]
  }
 ],
 "metadata": {
  "kernelspec": {
   "display_name": "Python 3",
   "language": "python",
   "name": "python3"
  },
  "language_info": {
   "codemirror_mode": {
    "name": "ipython",
    "version": 3
   },
   "file_extension": ".py",
   "mimetype": "text/x-python",
   "name": "python",
   "nbconvert_exporter": "python",
   "pygments_lexer": "ipython3",
   "version": "3.8"
  }
 },
 "nbformat": 4,
 "nbformat_minor": 4
}
