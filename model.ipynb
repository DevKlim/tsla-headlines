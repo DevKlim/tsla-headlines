{
 "cells": [
  {
   "cell_type": "code",
   "execution_count": 1,
   "metadata": {},
   "outputs": [],
   "source": [
    "# import libraries\n",
    "import pandas as pd\n",
    "import numpy as np\n",
    "import re\n",
    "import nltk\n",
    "from nltk.corpus import stopwords\n",
    "from nltk.tokenize import word_tokenize\n",
    "from textblob import TextBlob  # for sentiment analysis\n",
    "\n",
    "import xgboost as xgb\n",
    "from sklearn.model_selection import train_test_split, RandomizedSearchCV\n",
    "from sklearn.metrics import accuracy_score, classification_report, confusion_matrix\n",
    "from sklearn.feature_extraction.text import TfidfVectorizer\n",
    "from sklearn.preprocessing import StandardScaler\n",
    "import matplotlib.pyplot as plt\n",
    "from dateutil.parser import parse\n",
    "import warnings\n",
    "import seaborn as sns\n",
    "\n",
    "# download nltk data\n",
    "# nltk.download('stopwords')\n",
    "# nltk.download('punkt_tab')"
   ]
  },
  {
   "cell_type": "code",
   "execution_count": 2,
   "metadata": {},
   "outputs": [],
   "source": [
    "# load tesla data\n",
    "tesla = pd.read_csv('data/tsla.csv')\n",
    "\n",
    "# preprocess tesla data\n",
    "tesla['Date'] = pd.to_datetime(tesla['Date'])\n",
    "tesla.sort_values('Date', inplace=True)\n",
    "tesla.reset_index(drop=True, inplace=True)\n"
   ]
  },
  {
   "cell_type": "code",
   "execution_count": 3,
   "metadata": {},
   "outputs": [],
   "source": [
    "# load news data\n",
    "reuters = pd.read_csv('data/reuters_headlines.csv')\n",
    "guardian = pd.read_csv('data/guardian_headlines.csv')\n",
    "cnbc = pd.read_csv('data/cnbc_headlines.csv')\n",
    "\n",
    "# parse reuters dates\n",
    "reuters['Date'] = pd.to_datetime(reuters['Time'], errors='coerce')\n",
    "\n",
    "# parse guardian dates\n",
    "guardian['Date'] = pd.to_datetime(guardian['Time'], format='%d-%b-%y', errors='coerce')"
   ]
  },
  {
   "cell_type": "code",
   "execution_count": 4,
   "metadata": {},
   "outputs": [],
   "source": [
    "def parse_cnbc_time(time_str):\n",
    "    try:\n",
    "        time_str = time_str.strip().replace('ET', '').strip()\n",
    "        dt = parse(time_str, fuzzy=True)\n",
    "        return dt\n",
    "    except:\n",
    "        return pd.NaT"
   ]
  },
  {
   "cell_type": "code",
   "execution_count": 5,
   "metadata": {},
   "outputs": [],
   "source": [
    "cnbc.dropna(subset=['Headlines', 'Time'], inplace=True)\n",
    "cnbc['Date'] = cnbc['Time'].apply(parse_cnbc_time)\n",
    "\n",
    "# rename headlines\n",
    "reuters_news = reuters[['Date', 'Headlines']].rename(columns={'Headlines': 'Headline'})\n",
    "guardian_news = guardian[['Date', 'Headlines']].rename(columns={'Headlines': 'Headline'})\n",
    "cnbc_news = cnbc[['Date', 'Headlines']].rename(columns={'Headlines': 'Headline'})\n",
    "\n",
    "# combine all news\n",
    "news = pd.concat([reuters_news, guardian_news, cnbc_news], ignore_index=True)\n",
    "news.dropna(subset=['Date'], inplace=True)"
   ]
  },
  {
   "cell_type": "code",
   "execution_count": 6,
   "metadata": {},
   "outputs": [],
   "source": [
    "stop_words = set(stopwords.words('english'))\n",
    "\n",
    "# clean headlines\n",
    "def clean(text):\n",
    "    text = text.lower()\n",
    "    text = re.sub(r'[^a-z\\s]', '', text)\n",
    "    tokens = word_tokenize(text)\n",
    "    tokens = [word for word in tokens if word not in stop_words]\n",
    "    return ' '.join(tokens)"
   ]
  },
  {
   "cell_type": "code",
   "execution_count": 7,
   "metadata": {},
   "outputs": [],
   "source": [
    "news['Clean_Headline'] = news['Headline'].apply(clean)\n",
    "\n",
    "def get_sentiment(text):\n",
    "    return TextBlob(text).sentiment.polarity\n",
    "\n",
    "news['Sentiment'] = news['Headline'].apply(get_sentiment)\n",
    "daily_news = news.groupby('Date').agg({\n",
    "    'Clean_Headline': ' '.join,\n",
    "    'Sentiment': 'mean'\n",
    "}).reset_index()\n",
    "\n",
    "# merge with tesla data\n",
    "merged = pd.merge(tesla, daily_news, on='Date', how='inner')"
   ]
  },
  {
   "cell_type": "code",
   "execution_count": 8,
   "metadata": {},
   "outputs": [],
   "source": [
    "# create target: 1 if next day's close > today's close, else 0\n",
    "merged['Target'] = (merged['Close'].shift(-1) > merged['Close']).astype(int)\n",
    "merged.dropna(inplace=True)\n",
    "\n",
    "# feature engineering: add lag features\n",
    "for lag in [1, 2, 3]:\n",
    "    merged[f'Close_Lag{lag}'] = merged['Close'].shift(lag)\n",
    "    merged[f'Volume_Lag{lag}'] = merged['Volume'].shift(lag)\n",
    "merged.dropna(inplace=True)"
   ]
  },
  {
   "cell_type": "code",
   "execution_count": 9,
   "metadata": {},
   "outputs": [],
   "source": [
    "X_num = merged[['Open', 'High', 'Low', 'Close', 'Adj Close', 'Volume',\n",
    "               'Close_Lag1', 'Close_Lag2', 'Close_Lag3',\n",
    "               'Volume_Lag1', 'Volume_Lag2', 'Volume_Lag3', 'Sentiment']]\n",
    "X_text = merged['Clean_Headline']\n",
    "y = merged['Target']\n",
    "\n",
    "scaler = StandardScaler()\n",
    "X_num_scaled = scaler.fit_transform(X_num)\n",
    "vectorizer = TfidfVectorizer(max_features=500)\n",
    "X_text_vect = vectorizer.fit_transform(X_text).toarray()\n",
    "\n",
    "# combine features\n",
    "X = np.hstack((X_num.values, X_text_vect))\n",
    "\n",
    "# split data\n",
    "X_train, X_test, y_train, y_test = train_test_split(X, y, test_size=0.2, shuffle=False)"
   ]
  },
  {
   "cell_type": "code",
   "execution_count": 10,
   "metadata": {},
   "outputs": [
    {
     "name": "stdout",
     "output_type": "stream",
     "text": [
      "Fitting 3 folds for each of 20 candidates, totalling 60 fits\n"
     ]
    },
    {
     "name": "stderr",
     "output_type": "stream",
     "text": [
      "c:\\Users\\lxvel\\Miniforge3\\Lib\\site-packages\\xgboost\\core.py:158: UserWarning: [20:58:36] WARNING: D:\\bld\\xgboost-split_1733179550881\\work\\src\\common\\error_msg.cc:45: `gpu_id` is deprecated since2.0.0, use `device` instead. E.g. device=cpu/cuda/cuda:0\n",
      "  warnings.warn(smsg, UserWarning)\n",
      "c:\\Users\\lxvel\\Miniforge3\\Lib\\site-packages\\xgboost\\core.py:158: UserWarning: [20:58:36] WARNING: D:\\bld\\xgboost-split_1733179550881\\work\\src\\common\\error_msg.cc:27: The tree method `gpu_hist` is deprecated since 2.0.0. To use GPU training, set the `device` parameter to CUDA instead.\n",
      "\n",
      "    E.g. tree_method = \"hist\", device = \"cuda\"\n",
      "\n",
      "  warnings.warn(smsg, UserWarning)\n",
      "c:\\Users\\lxvel\\Miniforge3\\Lib\\site-packages\\xgboost\\core.py:158: UserWarning: [20:58:36] WARNING: D:\\bld\\xgboost-split_1733179550881\\work\\src\\learner.cc:740: \n",
      "Parameters: { \"use_label_encoder\" } are not used.\n",
      "\n",
      "  warnings.warn(smsg, UserWarning)\n"
     ]
    }
   ],
   "source": [
    "# tuning stage\n",
    "xgb_params = {\n",
    "    'tree_method': 'gpu_hist',\n",
    "    'gpu_id': 0,   \n",
    "    'n_estimators': 100,\n",
    "    'learning_rate': 0.05,\n",
    "    'max_depth': 6,\n",
    "    'subsample': 0.8,\n",
    "    'colsample_bytree': 0.8,\n",
    "    'random_state': 158,\n",
    "    'objective': 'binary:logistic',\n",
    "    'use_label_encoder': False,\n",
    "    'eval_metric': 'logloss'\n",
    "}\n",
    "\n",
    "model = xgb.XGBClassifier(**xgb_params)\n",
    "\n",
    "# hyperparameter tuning\n",
    "param_dist = {\n",
    "    'n_estimators': [100, 200, 300],\n",
    "    'learning_rate': [0.01, 0.05, 0.1],\n",
    "    'max_depth': [4, 6, 8],\n",
    "    'subsample': [0.6, 0.8, 1.0],\n",
    "    'colsample_bytree': [0.6, 0.8, 1.0]\n",
    "}\n",
    "\n",
    "rand_search = RandomizedSearchCV(model, param_distributions=param_dist,\n",
    "                                 n_iter=20, scoring='accuracy',\n",
    "                                 cv=3, verbose=1, random_state=158, n_jobs=-1)\n",
    "rand_search.fit(X_train, y_train)\n",
    "best_model = rand_search.best_estimator_"
   ]
  },
  {
   "cell_type": "code",
   "execution_count": 11,
   "metadata": {},
   "outputs": [
    {
     "name": "stdout",
     "output_type": "stream",
     "text": [
      "accuracy: 0.54\n",
      "classification report:\n",
      "              precision    recall  f1-score   support\n",
      "\n",
      "           0       0.49      0.43      0.46        58\n",
      "           1       0.58      0.63      0.60        71\n",
      "\n",
      "    accuracy                           0.54       129\n",
      "   macro avg       0.53      0.53      0.53       129\n",
      "weighted avg       0.54      0.54      0.54       129\n",
      "\n",
      "confusion matrix:\n",
      "[[25 33]\n",
      " [26 45]]\n"
     ]
    },
    {
     "name": "stderr",
     "output_type": "stream",
     "text": [
      "c:\\Users\\lxvel\\Miniforge3\\Lib\\site-packages\\xgboost\\core.py:158: UserWarning: [20:58:38] WARNING: D:\\bld\\xgboost-split_1733179550881\\work\\src\\common\\error_msg.cc:27: The tree method `gpu_hist` is deprecated since 2.0.0. To use GPU training, set the `device` parameter to CUDA instead.\n",
      "\n",
      "    E.g. tree_method = \"hist\", device = \"cuda\"\n",
      "\n",
      "  warnings.warn(smsg, UserWarning)\n",
      "c:\\Users\\lxvel\\Miniforge3\\Lib\\site-packages\\xgboost\\core.py:158: UserWarning: [20:58:38] WARNING: D:\\bld\\xgboost-split_1733179550881\\work\\src\\common\\error_msg.cc:58: Falling back to prediction using DMatrix due to mismatched devices. This might lead to higher memory usage and slower performance. XGBoost is running on: cuda:0, while the input data is on: cpu.\n",
      "Potential solutions:\n",
      "- Use a data structure that matches the device ordinal in the booster.\n",
      "- Set the device for booster before call to inplace_predict.\n",
      "\n",
      "This warning will only be shown once.\n",
      "\n",
      "  warnings.warn(smsg, UserWarning)\n"
     ]
    }
   ],
   "source": [
    "y_pred = best_model.predict(X_test)\n",
    "\n",
    "accuracy = accuracy_score(y_test, y_pred)\n",
    "print(f'accuracy: {accuracy:.2f}')\n",
    "print('classification report:')\n",
    "print(classification_report(y_test, y_pred))\n",
    "print('confusion matrix:')\n",
    "print(confusion_matrix(y_test, y_pred))"
   ]
  },
  {
   "cell_type": "code",
   "execution_count": 13,
   "metadata": {},
   "outputs": [
    {
     "data": {
      "image/png": "[encoded data removed]",
      "text/plain": [
       "<Figure size 600x400 with 2 Axes>"
      ]
     },
     "metadata": {},
     "output_type": "display_data"
    }
   ],
   "source": [
    "# plot confusion matrix\n",
    "plt.figure(figsize=(6,4))\n",
    "sns.heatmap(confusion_matrix(y_test, y_pred), annot=True, fmt='d', cmap='Blues',\n",
    "            xticklabels=['Down', 'Up'], yticklabels=['Down', 'Up'])\n",
    "plt.xlabel('predicted')\n",
    "plt.ylabel('actual')\n",
    "plt.title('confusion matrix')\n",
    "plt.show()"
   ]
  }
 ],
 "metadata": {
  "kernelspec": {
   "display_name": "base",
   "language": "python",
   "name": "python3"
  },
  "language_info": {
   "codemirror_mode": {
    "name": "ipython",
    "version": 3
   },
   "file_extension": ".py",
   "mimetype": "text/x-python",
   "name": "python",
   "nbconvert_exporter": "python",
   "pygments_lexer": "ipython3",
   "version": "3.12.7"
  }
 },
 "nbformat": 4,
 "nbformat_minor": 2
}
